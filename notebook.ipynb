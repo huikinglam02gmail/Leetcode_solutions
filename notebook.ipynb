{
 "cells": [
  {
   "cell_type": "code",
   "execution_count": 1,
   "metadata": {},
   "outputs": [],
   "source": [
    "'''\n",
    "A function to store the prime factor as key and power as value in a dictionay \n",
    "'''\n",
    "def primeFactors(n):\n",
    "    primes = {}\n",
    "    while n % 2 == 0:\n",
    "        primes[2] = primes.get(2, 0) + 1\n",
    "        n /= 2\n",
    "\n",
    "    i = 3\n",
    "    while i*i <= n:\n",
    "        while n % i == 0:\n",
    "            primes[i] = primes.get(i, 0) + 1\n",
    "            n /= i\n",
    "        i += 2\n",
    "    return primes"
   ]
  },
  {
   "cell_type": "code",
   "execution_count": 5,
   "metadata": {},
   "outputs": [
    {
     "data": {
      "text/plain": [
       "{11: 2}"
      ]
     },
     "execution_count": 5,
     "metadata": {},
     "output_type": "execute_result"
    }
   ],
   "source": [
    "primeFactors(121)"
   ]
  },
  {
   "cell_type": "code",
   "execution_count": null,
   "metadata": {},
   "outputs": [],
   "source": []
  }
 ],
 "metadata": {
  "kernelspec": {
   "display_name": "Python 3",
   "language": "python",
   "name": "python3"
  },
  "language_info": {
   "codemirror_mode": {
    "name": "ipython",
    "version": 3
   },
   "file_extension": ".py",
   "mimetype": "text/x-python",
   "name": "python",
   "nbconvert_exporter": "python",
   "pygments_lexer": "ipython3",
   "version": "3.10.4"
  },
  "orig_nbformat": 4,
  "vscode": {
   "interpreter": {
    "hash": "b0686d263f303a11f780f98f042ab939c4b16da1df8fd0c058a507df8fcd8a8f"
   }
  }
 },
 "nbformat": 4,
 "nbformat_minor": 2
}
