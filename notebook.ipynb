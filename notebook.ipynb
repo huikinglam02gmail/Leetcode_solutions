{
 "cells": [
  {
   "cell_type": "code",
   "execution_count": 3,
   "metadata": {},
   "outputs": [
    {
     "name": "stdout",
     "output_type": "stream",
     "text": [
      "[[0, 0], [0, 0]]\n",
      "[[1, 0], [0, 0]]\n"
     ]
    },
    {
     "data": {
      "text/plain": [
       "3"
      ]
     },
     "execution_count": 3,
     "metadata": {},
     "output_type": "execute_result"
    }
   ],
   "source": [
    "#\n",
    "# @lc app=leetcode id=1638 lang=python3\n",
    "#\n",
    "# [1638] Count Substrings That Differ by One Character\n",
    "#\n",
    "\n",
    "# @lc code=start\n",
    "class Solution:\n",
    "    # For each s[i] != t[j], \n",
    "    # we ask how many equals is before and after it\n",
    "    # we take the product and add to the result\n",
    "    def countSubstrings(self, s: str, t: str) -> int:\n",
    "        m, n = len(s), len(t)\n",
    "        before = [[0 for j in range(n)] for i in range(m)]\n",
    "        after = [[0 for j in range(n)] for i in range(m)]    \n",
    "        for i in range(1, m):\n",
    "            for j in range(1, n):\n",
    "                if s[i - 1] == t[j - 1]:\n",
    "                    before[i][j] = before[i - 1][j - 1] + 1\n",
    "                else:\n",
    "                    before[i][j] = 0\n",
    "        for i in range(m - 2, -1, -1):\n",
    "            for j in range(n - 2, -1, -1):\n",
    "                if s[i + 1] == t[j + 1]:\n",
    "                    after[i][j] = after[i + 1][j + 1] + 1\n",
    "                else:\n",
    "                    after[i][j] = 0 \n",
    "        result = 0\n",
    "        for i in range(m):\n",
    "            for j in range(n):\n",
    "                if s[i] != t[j]:\n",
    "                    result += (before[i][j] + 1) * (after[i][j] + 1)\n",
    "        return result                   \n",
    "\n",
    "        \n",
    "# @lc code=end\n",
    "\n",
    "sol = Solution()\n",
    "sol.countSubstrings(\"ab\", \"bb\")"
   ]
  },
  {
   "cell_type": "code",
   "execution_count": null,
   "metadata": {},
   "outputs": [],
   "source": []
  }
 ],
 "metadata": {
  "kernelspec": {
   "display_name": "Python 3",
   "language": "python",
   "name": "python3"
  },
  "language_info": {
   "codemirror_mode": {
    "name": "ipython",
    "version": 3
   },
   "file_extension": ".py",
   "mimetype": "text/x-python",
   "name": "python",
   "nbconvert_exporter": "python",
   "pygments_lexer": "ipython3",
   "version": "3.10.4"
  },
  "orig_nbformat": 4,
  "vscode": {
   "interpreter": {
    "hash": "b0686d263f303a11f780f98f042ab939c4b16da1df8fd0c058a507df8fcd8a8f"
   }
  }
 },
 "nbformat": 4,
 "nbformat_minor": 2
}
