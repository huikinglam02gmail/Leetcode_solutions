{
 "cells": [
  {
   "cell_type": "code",
   "execution_count": 28,
   "metadata": {},
   "outputs": [
    {
     "data": {
      "text/plain": [
       "0"
      ]
     },
     "execution_count": 28,
     "metadata": {},
     "output_type": "execute_result"
    }
   ],
   "source": [
    "#\n",
    "# @lc app=leetcode id=1579 lang=python3\n",
    "#\n",
    "# [1579] Remove Max Number of Edges to Keep Graph Fully Traversable\n",
    "#\n",
    "\n",
    "# @lc code=start\n",
    "from typing import List\n",
    "\n",
    "class UnionFindSet:\n",
    "    def __init__(self, n=0):\n",
    "        self.parents = [i for i in range(n)]\n",
    "        self.count = n\n",
    "\n",
    "    def find(self, u):\n",
    "        if u != self.parents[u]:\n",
    "            self.parents[u] = self.find(self.parents[u])\n",
    "        return self.parents[u]\n",
    "\n",
    "    def union(self, u, v):\n",
    "        pu, pv = self.find(u), self.find(v)\n",
    "        if pu != pv:\n",
    "            pMax, pMin = max(pu,pv), min(pu,pv)\n",
    "            self.parents[pMax] = pMin\n",
    "            self.count -= 1\n",
    "\n",
    "class Solution:\n",
    "    # We can collect the edges usable by Alice and Bob respectively\n",
    "    # Then just build the graph from scratch.\n",
    "    # For both cases, use the shared edges first\n",
    "    # We arrive at the minimal necessary skeleton when the size of disjoint set has arrived at n\n",
    "    # The intersection between unused edges by Alice and Bob are those that can be disposed\n",
    "    def maxNumEdgesToRemove(self, n: int, edges: List[List[int]]) -> int:\n",
    "        l = len(edges)\n",
    "        common = []\n",
    "        Alice = []\n",
    "        Bob = []\n",
    "        for i, edge in enumerate(edges):\n",
    "            t, u, v  = edge\n",
    "            if t == 1:\n",
    "                Alice.append([i, u - 1, v - 1])\n",
    "            elif t == 2:\n",
    "                Bob.append([i, u - 1, v - 1])\n",
    "            else:\n",
    "                common.append([i, u - 1, v - 1])\n",
    "\n",
    "        canToss = set()\n",
    "        DSU = UnionFindSet(n)\n",
    "        commonCount = len(common)\n",
    "        ind = 0\n",
    "        while ind < commonCount and DSU.count > 1:\n",
    "            i, u, v = common[ind]\n",
    "            if DSU.find(u) == DSU.find(v):\n",
    "                canToss.add(i)\n",
    "            else:\n",
    "                DSU.union(u, v)\n",
    "            ind += 1\n",
    "        while ind < commonCount:\n",
    "            canToss.add(common[ind][0])\n",
    "            ind += 1\n",
    "\n",
    "        for player in range(2):\n",
    "            if player == 0:\n",
    "                specific = Alice\n",
    "                defaultParents = DSU.parents[:]\n",
    "                defaultCount = DSU.count\n",
    "            else:\n",
    "                specific = Bob\n",
    "                DSU.parents = defaultParents\n",
    "                DSU.count = defaultCount\n",
    "            specificCount = len(specific)\n",
    "            ind = 0\n",
    "            while ind < specificCount and DSU.count > 1:\n",
    "                i, u, v = specific[ind]\n",
    "                if DSU.find(u) == DSU.find(v):\n",
    "                    canToss.add(i)\n",
    "                else:\n",
    "                    DSU.union(u, v)\n",
    "                ind += 1\n",
    "            while ind < specificCount:\n",
    "                canToss.add(specific[ind][0])\n",
    "                ind += 1\n",
    "            if DSU.count > 1:\n",
    "                return -1\n",
    "        return len(canToss)\n",
    "# @lc code=end\n",
    "\n",
    "sol = Solution()\n",
    "# sol.maxNumEdgesToRemove(4, [[3,1,2],[3,2,3],[1,1,3],[1,2,4],[1,1,2],[2,3,4]])\n",
    "sol.maxNumEdgesToRemove(4, [[3,1,2],[3,2,3],[1,1,4],[2,1,4]])\n",
    "# sol.maxNumEdgesToRemove(4, [[3,2,3],[1,1,4],[2,3,4]])"
   ]
  },
  {
   "cell_type": "code",
   "execution_count": null,
   "metadata": {},
   "outputs": [],
   "source": []
  }
 ],
 "metadata": {
  "kernelspec": {
   "display_name": "Python 3.10.4 64-bit",
   "language": "python",
   "name": "python3"
  },
  "language_info": {
   "codemirror_mode": {
    "name": "ipython",
    "version": 3
   },
   "file_extension": ".py",
   "mimetype": "text/x-python",
   "name": "python",
   "nbconvert_exporter": "python",
   "pygments_lexer": "ipython3",
   "version": "3.10.4 (tags/v3.10.4:9d38120, Mar 23 2022, 23:13:41) [MSC v.1929 64 bit (AMD64)]"
  },
  "orig_nbformat": 4,
  "vscode": {
   "interpreter": {
    "hash": "b0686d263f303a11f780f98f042ab939c4b16da1df8fd0c058a507df8fcd8a8f"
   }
  }
 },
 "nbformat": 4,
 "nbformat_minor": 2
}
