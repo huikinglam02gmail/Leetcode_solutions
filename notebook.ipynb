{
 "cells": [
  {
   "cell_type": "code",
   "execution_count": 10,
   "metadata": {},
   "outputs": [
    {
     "ename": "IndexError",
     "evalue": "list index out of range",
     "output_type": "error",
     "traceback": [
      "\u001b[1;31m---------------------------------------------------------------------------\u001b[0m",
      "\u001b[1;31mIndexError\u001b[0m                                Traceback (most recent call last)",
      "\u001b[1;32mc:\\Users\\huiki\\.leetcode\\notebook.ipynb Cell 1\u001b[0m in \u001b[0;36m<cell line: 61>\u001b[1;34m()\u001b[0m\n\u001b[0;32m     <a href='vscode-notebook-cell:/c%3A/Users/huiki/.leetcode/notebook.ipynb#W0sZmlsZQ%3D%3D?line=57'>58</a>\u001b[0m \u001b[39m# @lc code=end\u001b[39;00m\n\u001b[0;32m     <a href='vscode-notebook-cell:/c%3A/Users/huiki/.leetcode/notebook.ipynb#W0sZmlsZQ%3D%3D?line=59'>60</a>\u001b[0m sol \u001b[39m=\u001b[39m Solution()\n\u001b[1;32m---> <a href='vscode-notebook-cell:/c%3A/Users/huiki/.leetcode/notebook.ipynb#W0sZmlsZQ%3D%3D?line=60'>61</a>\u001b[0m sol\u001b[39m.\u001b[39;49mcountPairs([\u001b[39m1\u001b[39;49m, \u001b[39m4\u001b[39;49m, \u001b[39m2\u001b[39;49m, \u001b[39m7\u001b[39;49m], \u001b[39m2\u001b[39;49m, \u001b[39m6\u001b[39;49m)\n",
      "\u001b[1;32mc:\\Users\\huiki\\.leetcode\\notebook.ipynb Cell 1\u001b[0m in \u001b[0;36mSolution.countPairs\u001b[1;34m(self, nums, low, high)\u001b[0m\n\u001b[0;32m     <a href='vscode-notebook-cell:/c%3A/Users/huiki/.leetcode/notebook.ipynb#W0sZmlsZQ%3D%3D?line=52'>53</a>\u001b[0m \u001b[39mfor\u001b[39;00m num \u001b[39min\u001b[39;00m nums:\n\u001b[0;32m     <a href='vscode-notebook-cell:/c%3A/Users/huiki/.leetcode/notebook.ipynb#W0sZmlsZQ%3D%3D?line=53'>54</a>\u001b[0m     \u001b[39mfor\u001b[39;00m j \u001b[39min\u001b[39;00m \u001b[39mrange\u001b[39m(\u001b[39m2\u001b[39m):\n\u001b[1;32m---> <a href='vscode-notebook-cell:/c%3A/Users/huiki/.leetcode/notebook.ipynb#W0sZmlsZQ%3D%3D?line=54'>55</a>\u001b[0m         result[j] \u001b[39m+\u001b[39m\u001b[39m=\u001b[39m trie\u001b[39m.\u001b[39;49mcountXORPairsSmallerThanK(num, limit[j])\n\u001b[0;32m     <a href='vscode-notebook-cell:/c%3A/Users/huiki/.leetcode/notebook.ipynb#W0sZmlsZQ%3D%3D?line=55'>56</a>\u001b[0m     trie\u001b[39m.\u001b[39maddNewNumber(num)\n\u001b[0;32m     <a href='vscode-notebook-cell:/c%3A/Users/huiki/.leetcode/notebook.ipynb#W0sZmlsZQ%3D%3D?line=56'>57</a>\u001b[0m \u001b[39mreturn\u001b[39;00m result[\u001b[39m1\u001b[39m] \u001b[39m-\u001b[39m result[\u001b[39m0\u001b[39m]\n",
      "\u001b[1;32mc:\\Users\\huiki\\.leetcode\\notebook.ipynb Cell 1\u001b[0m in \u001b[0;36mTrie.countXORPairsSmallerThanK\u001b[1;34m(self, num, k)\u001b[0m\n\u001b[0;32m     <a href='vscode-notebook-cell:/c%3A/Users/huiki/.leetcode/notebook.ipynb#W0sZmlsZQ%3D%3D?line=22'>23</a>\u001b[0m \u001b[39mwhile\u001b[39;00m node:\n\u001b[0;32m     <a href='vscode-notebook-cell:/c%3A/Users/huiki/.leetcode/notebook.ipynb#W0sZmlsZQ%3D%3D?line=23'>24</a>\u001b[0m     nxtLevel \u001b[39m=\u001b[39m \u001b[39m1\u001b[39m \u001b[39m-\u001b[39m (k \u001b[39m^\u001b[39m num) \u001b[39m/\u001b[39m\u001b[39m/\u001b[39m (\u001b[39m1\u001b[39m \u001b[39m<<\u001b[39m level)\n\u001b[1;32m---> <a href='vscode-notebook-cell:/c%3A/Users/huiki/.leetcode/notebook.ipynb#W0sZmlsZQ%3D%3D?line=24'>25</a>\u001b[0m     \u001b[39mif\u001b[39;00m k \u001b[39m&\u001b[39m (\u001b[39m1\u001b[39m \u001b[39m<<\u001b[39m level) \u001b[39m>\u001b[39m \u001b[39m0\u001b[39m \u001b[39mand\u001b[39;00m node\u001b[39m.\u001b[39;49mchildren[\u001b[39m1\u001b[39;49m \u001b[39m-\u001b[39;49m nxtLevel]:\n\u001b[0;32m     <a href='vscode-notebook-cell:/c%3A/Users/huiki/.leetcode/notebook.ipynb#W0sZmlsZQ%3D%3D?line=25'>26</a>\u001b[0m         result \u001b[39m+\u001b[39m\u001b[39m=\u001b[39m node\u001b[39m.\u001b[39mchildren[\u001b[39m1\u001b[39m \u001b[39m-\u001b[39m nxtLevel]\u001b[39m.\u001b[39mcount\n\u001b[0;32m     <a href='vscode-notebook-cell:/c%3A/Users/huiki/.leetcode/notebook.ipynb#W0sZmlsZQ%3D%3D?line=26'>27</a>\u001b[0m         node \u001b[39m=\u001b[39m node\u001b[39m.\u001b[39mchildren[nxtLevel]\n",
      "\u001b[1;31mIndexError\u001b[0m: list index out of range"
     ]
    }
   ],
   "source": [
    "from typing import List\n",
    "#\n",
    "# @lc app=leetcode id=1803 lang=python3\n",
    "#\n",
    "# [1803] Count Pairs With XOR in a Range\n",
    "#\n",
    "\n",
    "# @lc code=start\n",
    "class TrieNode():\n",
    "    def __init__(self):\n",
    "        self.children = [None, None]\n",
    "        self.count = 0\n",
    "\n",
    "class Trie():\n",
    "    def __init__(self, levels):\n",
    "        self.root =  TrieNode()\n",
    "        self.levels = levels\n",
    "\n",
    "    def countXORPairsSmallerThanK(self, num, k):\n",
    "        node = self.root\n",
    "        result = 0\n",
    "        level = self.levels - 1\n",
    "        while node:\n",
    "            nxtLevel = 1 - (k ^ num) // (1 << level)\n",
    "            if k & (1 << level) > 0 and node.children[1 - nxtLevel]:\n",
    "                result += node.children[1 - nxtLevel].count\n",
    "                node = node.children[nxtLevel]\n",
    "                level -= 1\n",
    "            else:\n",
    "                node = None\n",
    "        return result\n",
    "    \n",
    "    def addNewNumber(self, num):\n",
    "        node = self.root\n",
    "        for i in range(self.levels - 1, -1, -1):\n",
    "            digit = (num & (1 << i)) // (1 << i)\n",
    "            if not node.children[digit]:\n",
    "                node.children[digit] = TrieNode()\n",
    "            node = node.children[digit]\n",
    "            node.count += 1\n",
    "\n",
    "class Solution:\n",
    "    '''\n",
    "    The problem can be broken down into (# of pairs with XOR < high + 1) - (# of pairs with XOR < low)\n",
    "    To find # of pairs with XOR < k, we can represent num as binary representation: 1 <= nums[i] <= 2 * 10^4, so binary string of 15 bits is enough\n",
    "    For each number num, we first break it down into its binary representation. Like in example 2, suppose we have seen 9 = \"1001\" and we have 8 = \"1000\"\n",
    "    For k = 15 = \"1111\". To check if we have number with num ^ 8 < 15 inside the Trie, we know any existing number with 0th digit = 1 must be valid, because \"1XXX\" ^ \"1000\" = \"0???\", which is smaller than \"1111\". Then we go down 1 level along all numbers with 0th digit = 0. Conversely, if we have 5 (\"0101\") instead of 8, any existing number with 0th digit = 0 will be valid. Then we go down 1 level along with all number with 0th digit = 1\n",
    "    '''\n",
    "    def countPairs(self, nums: List[int], low: int, high: int) -> int:\n",
    "        trie =  Trie(len(bin(high)[2:]))\n",
    "        result = [0, 0]\n",
    "        limit = [low, high + 1]\n",
    "        for num in nums:\n",
    "            for j in range(2):\n",
    "                result[j] += trie.countXORPairsSmallerThanK(num, limit[j])\n",
    "            trie.addNewNumber(num)\n",
    "        return result[1] - result[0]\n",
    "# @lc code=end\n",
    "\n",
    "sol = Solution()\n",
    "sol.countPairs([1, 4, 2, 7], 2, 6)"
   ]
  },
  {
   "cell_type": "code",
   "execution_count": 17,
   "metadata": {},
   "outputs": [
    {
     "name": "stdout",
     "output_type": "stream",
     "text": [
      "-1 -1 True True\n",
      "-1 -1 True True\n",
      "1 0 True True\n",
      "switched the minus head\n",
      "-1 0 True False\n",
      "1 1 True False\n",
      "1 2 True False\n",
      "1 3 True False\n"
     ]
    },
    {
     "data": {
      "text/plain": [
       "3"
      ]
     },
     "execution_count": 17,
     "metadata": {},
     "output_type": "execute_result"
    }
   ],
   "source": [
    "def Kadane(arr):\n",
    "    current = 0\n",
    "    result = 0\n",
    "    beginMinus = False\n",
    "    hasMinus = False\n",
    "    for num in arr:\n",
    "        if num == -1:\n",
    "            hasMinus = True\n",
    "            if current >= 0 and beginMinus:\n",
    "                beginMinus = False\n",
    "                current += 1           \n",
    "        current += num\n",
    "        if current < 0:\n",
    "            current = -1\n",
    "            beginMinus = True\n",
    "            hasMinus = True\n",
    "        elif hasMinus:\n",
    "            result = max(result, current)\n",
    "    return result\n",
    "\n",
    "Kadane([-1, -1, 1, -1, 1, 1, 1])"
   ]
  },
  {
   "cell_type": "code",
   "execution_count": null,
   "metadata": {},
   "outputs": [],
   "source": []
  }
 ],
 "metadata": {
  "kernelspec": {
   "display_name": "Python 3",
   "language": "python",
   "name": "python3"
  },
  "language_info": {
   "codemirror_mode": {
    "name": "ipython",
    "version": 3
   },
   "file_extension": ".py",
   "mimetype": "text/x-python",
   "name": "python",
   "nbconvert_exporter": "python",
   "pygments_lexer": "ipython3",
   "version": "3.10.4"
  },
  "orig_nbformat": 4,
  "vscode": {
   "interpreter": {
    "hash": "b0686d263f303a11f780f98f042ab939c4b16da1df8fd0c058a507df8fcd8a8f"
   }
  }
 },
 "nbformat": 4,
 "nbformat_minor": 2
}
