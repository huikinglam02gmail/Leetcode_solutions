{
 "cells": [
  {
   "cell_type": "code",
   "execution_count": 8,
   "metadata": {},
   "outputs": [
    {
     "name": "stdout",
     "output_type": "stream",
     "text": [
      "0 1 deque([[-1, 0], [0, 1]])\n",
      "1 2 deque([[-1, 0], [0, 1], [1, 2]])\n",
      "2 2 deque([[-1, 0], [0, 1], [2, 2]])\n",
      "3 2 deque([[0, 1], [3, 2]])\n",
      "4 3 deque([[3, 2], [4, 3]])\n"
     ]
    },
    {
     "data": {
      "text/plain": [
       "6"
      ]
     },
     "execution_count": 8,
     "metadata": {},
     "output_type": "execute_result"
    }
   ],
   "source": [
    "#\n",
    "# @lc app=leetcode id=1687 lang=python3\n",
    "#\n",
    "# [1687] Delivering Boxes from Storage to Ports\n",
    "#\n",
    "\n",
    "# @lc code=start\n",
    "from typing import List\n",
    "from collections import deque\n",
    "\n",
    "\n",
    "class Solution:\n",
    "    '''\n",
    "    Break down the question into basics. If there are no limits on portsCount and maxBoxes, the number of trips is 1 (start from storage) + number of transitions in boxes[i][0] + 1 (go back to storage).\n",
    "    When we put in the constraints, we are increasing the cost. We can break this problem into subproblems: if we finished box[:i] and we want to deliver box[i], we can attempt the following: choose a port j (j <= i) in which we transport boxes[j:i + 1] in one single trip. The additional cost we will add to preexisting cost is:\n",
    "    1. is boxes[j][0] == boxs[j - 1][0], we add 2\n",
    "    2. else, we just add 1\n",
    "    Let dp(i) = minimum number of trips the ship needs to make to deliver boxes[:i] to their respective ports. We want to get dp(n). \n",
    "    We have the recursive relation: dp(i) = min(dp[j-1:i]) + 1(if boxes[j-1 - 1][0] != boxes[j][0]) else + 2 \n",
    "    There is no need to scan all the j-i pairs because if we know box[j:i+ 1] does not satisfy the constraint, box[j + 1: i + 1] won't either. Instead we use the monotonic increasing queue and to make sure the smallet dp is always on the left\n",
    "    '''\n",
    "    def boxDelivering(self, boxes: List[List[int]], portsCount: int, maxBoxes: int, maxWeight: int) -> int:\n",
    "        n = len(boxes)\n",
    "        dq = deque()\n",
    "        left = -1\n",
    "        dq.append([-1, 0])\n",
    "        \n",
    "        weight = 0\n",
    "        for i, [port, w] in enumerate(boxes):\n",
    "            weight += w\n",
    "            while (i - left) > maxBoxes or weight > maxWeight:\n",
    "                left += 1\n",
    "                weight -= boxes[left][1] \n",
    "            while dq[0][0] < left:\n",
    "                dq.popleft()\n",
    "            currentCost = dq[0][1] + 1\n",
    "            if i < n - 1 and boxes[i][0] == boxes[i+1][0]:\n",
    "                currentCost += 1\n",
    "            while dq[-1][1] >= currentCost:\n",
    "                dq.pop()\n",
    "            dq.append([i, currentCost])\n",
    "            print(i, currentCost, dq)\n",
    "        for i in range(n - 1):\n",
    "            if boxes[i][0] != boxes[i+1][0]:\n",
    "                currentCost += 1\n",
    "        return currentCost + 1                 \n",
    "\n",
    "sol = Solution()\n",
    "sol.boxDelivering([[1,2],[3,3],[3,1],[3,1],[2,4]], 3, 3, 6)        \n",
    "# @lc code=end\n",
    "\n"
   ]
  },
  {
   "cell_type": "code",
   "execution_count": 14,
   "metadata": {},
   "outputs": [
    {
     "data": {
      "text/plain": [
       "0"
      ]
     },
     "execution_count": 14,
     "metadata": {},
     "output_type": "execute_result"
    }
   ],
   "source": [
    "0 << 1"
   ]
  },
  {
   "cell_type": "code",
   "execution_count": null,
   "metadata": {},
   "outputs": [],
   "source": []
  }
 ],
 "metadata": {
  "kernelspec": {
   "display_name": "Python 3",
   "language": "python",
   "name": "python3"
  },
  "language_info": {
   "codemirror_mode": {
    "name": "ipython",
    "version": 3
   },
   "file_extension": ".py",
   "mimetype": "text/x-python",
   "name": "python",
   "nbconvert_exporter": "python",
   "pygments_lexer": "ipython3",
   "version": "3.10.4"
  },
  "orig_nbformat": 4,
  "vscode": {
   "interpreter": {
    "hash": "b0686d263f303a11f780f98f042ab939c4b16da1df8fd0c058a507df8fcd8a8f"
   }
  }
 },
 "nbformat": 4,
 "nbformat_minor": 2
}
