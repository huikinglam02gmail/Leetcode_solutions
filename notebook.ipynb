{
 "cells": [
  {
   "cell_type": "code",
   "execution_count": 1,
   "metadata": {},
   "outputs": [
    {
     "ename": "KeyboardInterrupt",
     "evalue": "",
     "output_type": "error",
     "traceback": [
      "\u001b[1;31m---------------------------------------------------------------------------\u001b[0m",
      "\u001b[1;31mKeyboardInterrupt\u001b[0m                         Traceback (most recent call last)",
      "\u001b[1;32mc:\\Users\\huiki\\.leetcode\\notebook.ipynb Cell 1\u001b[0m in \u001b[0;36m<cell line: 66>\u001b[1;34m()\u001b[0m\n\u001b[0;32m     <a href='vscode-notebook-cell:/c%3A/Users/huiki/.leetcode/notebook.ipynb#W0sZmlsZQ%3D%3D?line=62'>63</a>\u001b[0m \u001b[39m# @lc code=end\u001b[39;00m\n\u001b[0;32m     <a href='vscode-notebook-cell:/c%3A/Users/huiki/.leetcode/notebook.ipynb#W0sZmlsZQ%3D%3D?line=64'>65</a>\u001b[0m sol \u001b[39m=\u001b[39m Solution()\n\u001b[1;32m---> <a href='vscode-notebook-cell:/c%3A/Users/huiki/.leetcode/notebook.ipynb#W0sZmlsZQ%3D%3D?line=65'>66</a>\u001b[0m sol\u001b[39m.\u001b[39;49mcountSubgraphsForEachDiameter(\u001b[39m4\u001b[39;49m, [[\u001b[39m1\u001b[39;49m,\u001b[39m2\u001b[39;49m],[\u001b[39m2\u001b[39;49m,\u001b[39m3\u001b[39;49m],[\u001b[39m2\u001b[39;49m,\u001b[39m4\u001b[39;49m]])\n",
      "\u001b[1;32mc:\\Users\\huiki\\.leetcode\\notebook.ipynb Cell 1\u001b[0m in \u001b[0;36mSolution.countSubgraphsForEachDiameter\u001b[1;34m(self, n, edges)\u001b[0m\n\u001b[0;32m     <a href='vscode-notebook-cell:/c%3A/Users/huiki/.leetcode/notebook.ipynb#W0sZmlsZQ%3D%3D?line=50'>51</a>\u001b[0m \u001b[39mfor\u001b[39;00m mask \u001b[39min\u001b[39;00m \u001b[39mrange\u001b[39m(\u001b[39m1\u001b[39m \u001b[39m<<\u001b[39m n):\n\u001b[0;32m     <a href='vscode-notebook-cell:/c%3A/Users/huiki/.leetcode/notebook.ipynb#W0sZmlsZQ%3D%3D?line=51'>52</a>\u001b[0m     i \u001b[39m=\u001b[39m \u001b[39m0\u001b[39m\n\u001b[1;32m---> <a href='vscode-notebook-cell:/c%3A/Users/huiki/.leetcode/notebook.ipynb#W0sZmlsZQ%3D%3D?line=52'>53</a>\u001b[0m     \u001b[39mwhile\u001b[39;00m (mask \u001b[39m&\u001b[39;49m (\u001b[39m1\u001b[39;49m \u001b[39m<<\u001b[39;49m i) \u001b[39m==\u001b[39;49m \u001b[39m0\u001b[39;49m):\n\u001b[0;32m     <a href='vscode-notebook-cell:/c%3A/Users/huiki/.leetcode/notebook.ipynb#W0sZmlsZQ%3D%3D?line=53'>54</a>\u001b[0m         i \u001b[39m+\u001b[39m\u001b[39m=\u001b[39m \u001b[39m1\u001b[39m\n\u001b[0;32m     <a href='vscode-notebook-cell:/c%3A/Users/huiki/.leetcode/notebook.ipynb#W0sZmlsZQ%3D%3D?line=54'>55</a>\u001b[0m     \u001b[39mif\u001b[39;00m i \u001b[39m<\u001b[39m n:\n",
      "\u001b[1;31mKeyboardInterrupt\u001b[0m: "
     ]
    }
   ],
   "source": [
    "#\n",
    "# @lc app=leetcode id=1617 lang=python3\n",
    "#\n",
    "# [1617] Count Subtrees With Max Distance Between Cities\n",
    "#\n",
    "\n",
    "# @lc code=start\n",
    "from collections import deque\n",
    "from typing import List\n",
    "\n",
    "\n",
    "class Solution:\n",
    "    # 2 <= n <= 15\n",
    "    # Therefore can use bitmask to represent cities included\n",
    "    # For each mask, we bfs from one of the nodes\n",
    "    # if we cannot reach every node, it means the current mask does not represent a valid subset\n",
    "    # if we pass the test, we bfs from the last member in topologically sorted and get the maximum distance\n",
    "    \n",
    "    def bfs(self, mask, start):\n",
    "        dq = deque()\n",
    "        visited = []\n",
    "        dq.append(start)\n",
    "        visited.append(start)\n",
    "        steps = 0\n",
    "        while dq:\n",
    "            for i in range(len(dq)):\n",
    "                node = dq.popleft()\n",
    "                for nxt in self.graph[node]:\n",
    "                    if mask & (1 << nxt) != 0 and nxt not in visited:\n",
    "                        dq.append(nxt)\n",
    "                        visited.append(nxt)\n",
    "            if dq:\n",
    "                steps += 1\n",
    "        return [steps] + visited\n",
    "\n",
    "    def setBitCounter(self, mask):\n",
    "        result = 0\n",
    "        while mask > 0:\n",
    "            if mask % 2 == 1:\n",
    "                result += 1\n",
    "            mask >> 1\n",
    "        return result\n",
    "\n",
    "    def countSubgraphsForEachDiameter(self, n: int, edges: List[List[int]]) -> List[int]:\n",
    "        self.graph = [set() for i in range(n)]\n",
    "        result = [0]*n\n",
    "        for a, b in edges:\n",
    "            self.graph[a - 1].add(b - 1)\n",
    "            self.graph[b - 1].add(a - 1)\n",
    "        \n",
    "        for mask in range(1 << n):\n",
    "            i = 0\n",
    "            while (mask & (1 << i) == 0):\n",
    "                i += 1\n",
    "            if i < n:\n",
    "                bfsResult = self.bfs(mask, i)\n",
    "                if len(bfsResult) - 1 == self.setBitCounter(mask):\n",
    "                    lastNode = bfsResult.pop()\n",
    "                    bfsResultFromEdge = self.bfs(mask, lastNode)\n",
    "                    result[bfsResultFromEdge[0]] += 1\n",
    "        return result\n",
    "\n",
    "# @lc code=end\n",
    "\n",
    "sol = Solution()\n",
    "sol.countSubgraphsForEachDiameter(4, [[1,2],[2,3],[2,4]])"
   ]
  },
  {
   "cell_type": "code",
   "execution_count": null,
   "metadata": {},
   "outputs": [],
   "source": []
  }
 ],
 "metadata": {
  "kernelspec": {
   "display_name": "Python 3.10.4 64-bit",
   "language": "python",
   "name": "python3"
  },
  "language_info": {
   "codemirror_mode": {
    "name": "ipython",
    "version": 3
   },
   "file_extension": ".py",
   "mimetype": "text/x-python",
   "name": "python",
   "nbconvert_exporter": "python",
   "pygments_lexer": "ipython3",
   "version": "3.10.4"
  },
  "orig_nbformat": 4,
  "vscode": {
   "interpreter": {
    "hash": "b0686d263f303a11f780f98f042ab939c4b16da1df8fd0c058a507df8fcd8a8f"
   }
  }
 },
 "nbformat": 4,
 "nbformat_minor": 2
}
