{
 "cells": [
  {
   "cell_type": "code",
   "execution_count": 1,
   "metadata": {},
   "outputs": [
    {
     "ename": "KeyboardInterrupt",
     "evalue": "",
     "output_type": "error",
     "traceback": [
      "\u001b[1;31m---------------------------------------------------------------------------\u001b[0m",
      "\u001b[1;31mKeyboardInterrupt\u001b[0m                         Traceback (most recent call last)",
      "\u001b[1;32mc:\\Users\\huiki\\.leetcode\\notebook.ipynb Cell 1\u001b[0m in \u001b[0;36m<cell line: 44>\u001b[1;34m()\u001b[0m\n\u001b[0;32m     <a href='vscode-notebook-cell:/c%3A/Users/huiki/.leetcode/notebook.ipynb#W1sZmlsZQ%3D%3D?line=40'>41</a>\u001b[0m         \u001b[39mreturn\u001b[39;00m candidates\n\u001b[0;32m     <a href='vscode-notebook-cell:/c%3A/Users/huiki/.leetcode/notebook.ipynb#W1sZmlsZQ%3D%3D?line=42'>43</a>\u001b[0m sol \u001b[39m=\u001b[39m Solution()\n\u001b[1;32m---> <a href='vscode-notebook-cell:/c%3A/Users/huiki/.leetcode/notebook.ipynb#W1sZmlsZQ%3D%3D?line=43'>44</a>\u001b[0m sol\u001b[39m.\u001b[39;49mmaxNumOfSubstrings(\u001b[39m\"\u001b[39;49m\u001b[39madefaddaccc\u001b[39;49m\u001b[39m\"\u001b[39;49m)\n",
      "\u001b[1;32mc:\\Users\\huiki\\.leetcode\\notebook.ipynb Cell 1\u001b[0m in \u001b[0;36mSolution.maxNumOfSubstrings\u001b[1;34m(self, s)\u001b[0m\n\u001b[0;32m     <a href='vscode-notebook-cell:/c%3A/Users/huiki/.leetcode/notebook.ipynb#W1sZmlsZQ%3D%3D?line=25'>26</a>\u001b[0m count \u001b[39m=\u001b[39m \u001b[39m0\u001b[39m\n\u001b[0;32m     <a href='vscode-notebook-cell:/c%3A/Users/huiki/.leetcode/notebook.ipynb#W1sZmlsZQ%3D%3D?line=26'>27</a>\u001b[0m \u001b[39mfor\u001b[39;00m key2 \u001b[39min\u001b[39;00m keys:\n\u001b[1;32m---> <a href='vscode-notebook-cell:/c%3A/Users/huiki/.leetcode/notebook.ipynb#W1sZmlsZQ%3D%3D?line=27'>28</a>\u001b[0m     \u001b[39mif\u001b[39;00m appear[key2][\u001b[39m0\u001b[39m] \u001b[39m>\u001b[39m\u001b[39m=\u001b[39m appear[key1][\u001b[39m0\u001b[39m] \u001b[39mand\u001b[39;00m appear[key2][\u001b[39m1\u001b[39;49m] \u001b[39m<\u001b[39;49m\u001b[39m=\u001b[39;49m appear[key1][\u001b[39m1\u001b[39;49m]:\n\u001b[0;32m     <a href='vscode-notebook-cell:/c%3A/Users/huiki/.leetcode/notebook.ipynb#W1sZmlsZQ%3D%3D?line=28'>29</a>\u001b[0m         count \u001b[39m+\u001b[39m\u001b[39m=\u001b[39m \u001b[39m1\u001b[39m\n\u001b[0;32m     <a href='vscode-notebook-cell:/c%3A/Users/huiki/.leetcode/notebook.ipynb#W1sZmlsZQ%3D%3D?line=29'>30</a>\u001b[0m     \u001b[39melse\u001b[39;00m:\n",
      "\u001b[1;31mKeyboardInterrupt\u001b[0m: "
     ]
    }
   ],
   "source": [
    "from typing import List\n",
    "import bisect\n",
    "\n",
    "\n",
    "class Solution:\n",
    "    # ok substrings must start from where a character is first seen\n",
    "    # The shortest possible ok substring ends with the same character last seen, if and only if all the rest characters either is totally inside the current range or completely outside\n",
    "    # If we see partial overlap, we change the end to that of the overlapping character, and test again\n",
    "    # Once we arrive at an ok substring, we save the start and end, and sort by the end\n",
    "    # Then try to build an nonoverlapping sequence from the sorted list. Throw away intervals with start smaller than current end\n",
    "    # To make a substring valid, characters must either\n",
    "    # 1. never appear inside the range => if we search the current start and end inside the appearance list, they must have the same index\n",
    "    # 2. \n",
    "    def maxNumOfSubstrings(self, s: str) -> List[str]:\n",
    "        appear, n = {}, len(s)\n",
    "        for i in range(n):\n",
    "            if s[i] not in appear:\n",
    "                appear[s[i]] = []\n",
    "            appear[s[i]].append(i)\n",
    "        keys = list(appear.keys())\n",
    "        candidates = []\n",
    "        for key1 in keys:\n",
    "            # Try one end, if we see couldn't find an okay range we extend the end with other \n",
    "            start, end, foundSubstring = appear[key1][0], appear[key1][-1], False\n",
    "            while not foundSubstring and end < n - 1:\n",
    "                count = 0\n",
    "                for key2 in keys:\n",
    "                    if appear[key2][0] >= appear[key1][0] and appear[key2][1] <= appear[key1][1]:\n",
    "                        count += 1\n",
    "                    else:\n",
    "                        indStart = bisect.bisect_left(appear[key2], start)\n",
    "                        indEnd = bisect.bisect_right(appear[key2], end)\n",
    "                        if indStart != indEnd:\n",
    "                            end = appear[key2][-1]\n",
    "                            break\n",
    "                        else:\n",
    "                            count += 1\n",
    "                if count == len(keys):\n",
    "                    foundSubstring = True\n",
    "                \n",
    "        return candidates\n",
    "\n",
    "sol = Solution()\n",
    "sol.maxNumOfSubstrings(\"adefaddaccc\")\n"
   ]
  },
  {
   "cell_type": "code",
   "execution_count": null,
   "metadata": {},
   "outputs": [],
   "source": []
  }
 ],
 "metadata": {
  "kernelspec": {
   "display_name": "Python 3.10.4 64-bit",
   "language": "python",
   "name": "python3"
  },
  "language_info": {
   "codemirror_mode": {
    "name": "ipython",
    "version": 3
   },
   "file_extension": ".py",
   "mimetype": "text/x-python",
   "name": "python",
   "nbconvert_exporter": "python",
   "pygments_lexer": "ipython3",
   "version": "3.10.4"
  },
  "orig_nbformat": 4,
  "vscode": {
   "interpreter": {
    "hash": "b0686d263f303a11f780f98f042ab939c4b16da1df8fd0c058a507df8fcd8a8f"
   }
  }
 },
 "nbformat": 4,
 "nbformat_minor": 2
}
