{
 "cells": [
  {
   "cell_type": "code",
   "execution_count": 12,
   "metadata": {},
   "outputs": [
    {
     "name": "stdout",
     "output_type": "stream",
     "text": [
      "0 1 0 30 5 [0, 30]\n",
      "4 0 0 5 9 [0, 5]\n",
      "5 2 0 5 10 [0, 5]\n",
      "9 1 1 5 18 [0, 5]\n",
      "10 0 1 5 18 [0, 5]\n",
      "12 1 2 5 18 [0, 5]\n",
      "15 0 2 5 20 [0, 5]\n",
      "18 2 1 5 24 [0, 5]\n",
      "20 1 3 5 24 [0, 5]\n"
     ]
    },
    {
     "data": {
      "text/plain": [
       "[20, 24]"
      ]
     },
     "execution_count": 12,
     "metadata": {},
     "output_type": "execute_result"
    }
   ],
   "source": [
    "#\n",
    "# @lc app=leetcode id=632 lang=python3\n",
    "#\n",
    "# [632] Smallest Range Covering Elements from K Lists\n",
    "#\n",
    "\n",
    "# @lc code=start\n",
    "import heapq\n",
    "from typing import List\n",
    "\n",
    "\n",
    "class Solution:\n",
    "    '''        \n",
    "    The idea is to go through one of the lists from min to max\n",
    "    at the beginning, push the first element of each list with its row and column  indices into a min heap\n",
    "    Then at each round, find min element from the heap. Get the next larger number in that row\n",
    "    We keep track of the largest element seen sofar. The difference between the maxsofar and current element is then recorded and whenever we see a smaller difference, we save the pair.\n",
    "    The process ends when one of the lists arrived at the end.\n",
    "    '''\n",
    "    def smallestRange(self, nums: List[List[int]]) -> List[int]:\n",
    "        globalMax, globalMin, maxSoFar = - float('inf'), float('inf'), - float('inf')\n",
    "        heap = []\n",
    "        for i, num in enumerate(nums):\n",
    "            globalMax = max(globalMax, num[-1])\n",
    "            globalMin = min(globalMin, num[0])\n",
    "            heapq.heappush(heap, [num[0], i, 0])\n",
    "            maxSoFar = max(maxSoFar,num[0])\n",
    "            \n",
    "        result = [globalMin, globalMax]\n",
    "        diff = globalMax - globalMin\n",
    "        \n",
    "        while heap:\n",
    "            num, row, col = heapq.heappop(heap)\n",
    "            if maxSoFar - num < diff:\n",
    "                diff = maxSoFar - num\n",
    "                result = [num, maxSoFar]\n",
    "            if col < len(nums[row]) - 1:\n",
    "                heapq.heappush(heap, [nums[row][col + 1], row, col + 1])\n",
    "                maxSoFar = max(maxSoFar, nums[row][col + 1])\n",
    "            else:\n",
    "                break\n",
    "        return result\n",
    "# @lc code=end\n",
    "\n",
    "sol = Solution()\n",
    "sol.smallestRange([[4,10,15,24,26],[0,9,12,20],[5,18,22,30]])\n",
    "\n"
   ]
  },
  {
   "cell_type": "code",
   "execution_count": 14,
   "metadata": {},
   "outputs": [
    {
     "data": {
      "text/plain": [
       "0"
      ]
     },
     "execution_count": 14,
     "metadata": {},
     "output_type": "execute_result"
    }
   ],
   "source": [
    "0 << 1"
   ]
  },
  {
   "cell_type": "code",
   "execution_count": null,
   "metadata": {},
   "outputs": [],
   "source": []
  }
 ],
 "metadata": {
  "kernelspec": {
   "display_name": "Python 3",
   "language": "python",
   "name": "python3"
  },
  "language_info": {
   "codemirror_mode": {
    "name": "ipython",
    "version": 3
   },
   "file_extension": ".py",
   "mimetype": "text/x-python",
   "name": "python",
   "nbconvert_exporter": "python",
   "pygments_lexer": "ipython3",
   "version": "3.10.4"
  },
  "orig_nbformat": 4,
  "vscode": {
   "interpreter": {
    "hash": "b0686d263f303a11f780f98f042ab939c4b16da1df8fd0c058a507df8fcd8a8f"
   }
  }
 },
 "nbformat": 4,
 "nbformat_minor": 2
}
